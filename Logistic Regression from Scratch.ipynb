{
 "cells": [
  {
   "cell_type": "code",
   "execution_count": 11,
   "metadata": {},
   "outputs": [],
   "source": [
    "# Import Libraries\n",
    "import numpy as np\n",
    "import pandas as pd\n",
    "from sklearn.model_selection import train_test_split\n",
    "from sklearn.metrics import accuracy_score,confusion_matrix,classification_report\n",
    "from sklearn import datasets"
   ]
  },
  {
   "cell_type": "code",
   "execution_count": 2,
   "metadata": {},
   "outputs": [],
   "source": [
    "## Initialize Parameters\n",
    "def initialize(dim):\n",
    "    z=np.zeros(shape=(dim,1))\n",
    "    b=0\n",
    "    return z,b"
   ]
  },
  {
   "cell_type": "code",
   "execution_count": 4,
   "metadata": {},
   "outputs": [],
   "source": [
    "## Compute Sigmoid\n",
    "def sigmoid(z):\n",
    "    return 1/(1+np.exp(-z))"
   ]
  },
  {
   "cell_type": "code",
   "execution_count": 27,
   "metadata": {},
   "outputs": [],
   "source": [
    "## Propagate Model\n",
    "def propagate(x,y,w,b,alpha):\n",
    "    \"\"\"\n",
    "    Shape of x is (No of features, No of Examples)\n",
    "    Shape of y is (1,No of examples)\n",
    "    Shape of w is (No of features, 1)\n",
    "    Shape of b is (1)\n",
    "    \n",
    "    \"\"\"\n",
    "    m=x.shape[1]\n",
    "    # Compute z\n",
    "    z=np.dot(w.T,x)+b\n",
    "    \n",
    "    #Sigmoid activation\n",
    "    a=sigmoid(z)\n",
    "    \n",
    "    #Compute cost function\n",
    "    cost=(-1/m)*np.sum((y*np.log(a)+(1-y)*np.log(1-a)))\n",
    "    \n",
    "    #Backward Propagate\n",
    "    dz=a-y\n",
    "    dw=(1/m)*np.sum(np.dot(x,(a-y).T))\n",
    "    db=(1/m)*np.sum(a-y)\n",
    "    \n",
    "    # Update Parameters\n",
    "    \n",
    "    w=w-alpha*dw\n",
    "    b=b-alpha*db\n",
    "    \n",
    "    grad={'dw':dw,'db':db,'w':w,'b':b,'cost':np.squeeze(cost)}\n",
    "    return grad\n",
    "    \n",
    "    "
   ]
  },
  {
   "cell_type": "code",
   "execution_count": 28,
   "metadata": {},
   "outputs": [],
   "source": [
    "def optimize(x,y,alpha,iterations,display_cost=True):\n",
    "    \n",
    "    #Initialize parameters\n",
    "    dim=x.shape[0]\n",
    "    w,b=initialize(dim)\n",
    "    cost=[]\n",
    "    for i in range(1,iterations+1):\n",
    "        grad=propagate(x,y,w,b,alpha)\n",
    "        w=grad['w']\n",
    "        b=grad['b']\n",
    "        \n",
    "        if i%200==0:\n",
    "            cost.append(grad['cost'])\n",
    "            if display_cost==True:\n",
    "                print('cost after ',i, ' iterations is :', grad['cost'])\n",
    "    parms={'w':w,'b':b}\n",
    "    return parms,cost\n",
    "    "
   ]
  },
  {
   "cell_type": "code",
   "execution_count": 29,
   "metadata": {},
   "outputs": [],
   "source": [
    "def model(x,y,alpha,iterations,display_cost=True):\n",
    "    x=x.T\n",
    "    y=y.T\n",
    "    parms,cost=optimize(x,y,alpha,iterations,display_cost=True)\n",
    "    return parms,cost"
   ]
  },
  {
   "cell_type": "code",
   "execution_count": 49,
   "metadata": {},
   "outputs": [],
   "source": [
    "def predict(test,parms):\n",
    "    x=test.T\n",
    "    w=parms['w']\n",
    "    b=parms['b']\n",
    "    out=np.zeros(shape=(1,x.shape[1]))\n",
    "    pred=sigmoid(np.dot(w.T,x)+b)\n",
    "    for i in range(x.shape[1]):\n",
    "        out[0,i]=1 if pred[0,i]>0.5 else 0\n",
    "    return out.T"
   ]
  },
  {
   "cell_type": "code",
   "execution_count": 31,
   "metadata": {},
   "outputs": [],
   "source": [
    "data=datasets.load_breast_cancer()"
   ]
  },
  {
   "cell_type": "code",
   "execution_count": 32,
   "metadata": {},
   "outputs": [],
   "source": [
    "x=data.data\n",
    "y=data.target"
   ]
  },
  {
   "cell_type": "code",
   "execution_count": 35,
   "metadata": {},
   "outputs": [],
   "source": [
    "#Normalize\n",
    "mean=x.mean(axis=0)\n",
    "std=x.std(axis=0)\n",
    "x=(x-mean)/std"
   ]
  },
  {
   "cell_type": "code",
   "execution_count": 43,
   "metadata": {},
   "outputs": [],
   "source": [
    "x_train,x_test,y_train,y_test=train_test_split(x,y,stratify=y,test_size=0.2,random_state=42)"
   ]
  },
  {
   "cell_type": "code",
   "execution_count": 40,
   "metadata": {},
   "outputs": [
    {
     "name": "stdout",
     "output_type": "stream",
     "text": [
      "cost after  200  iterations is : 0.31097697089616977\n",
      "cost after  400  iterations is : 0.30974415268746935\n",
      "cost after  600  iterations is : 0.30913205209067113\n",
      "cost after  800  iterations is : 0.3085524617998322\n",
      "cost after  1000  iterations is : 0.3079928880346234\n",
      "cost after  1200  iterations is : 0.3074524442667845\n",
      "cost after  1400  iterations is : 0.3069305255768978\n",
      "cost after  1600  iterations is : 0.30642654709775297\n",
      "cost after  1800  iterations is : 0.3059399383065513\n",
      "cost after  2000  iterations is : 0.305470142942431\n",
      "cost after  2200  iterations is : 0.30501661896458726\n",
      "cost after  2400  iterations is : 0.3045788384756325\n",
      "cost after  2600  iterations is : 0.3041562876187753\n",
      "cost after  2800  iterations is : 0.3037484664523139\n",
      "cost after  3000  iterations is : 0.3033548888037108\n",
      "cost after  3200  iterations is : 0.30297508210524343\n",
      "cost after  3400  iterations is : 0.30260858721311346\n",
      "cost after  3600  iterations is : 0.30225495821180437\n",
      "cost after  3800  iterations is : 0.3019137622053805\n",
      "cost after  4000  iterations is : 0.3015845790973321\n",
      "cost after  4200  iterations is : 0.30126700136047463\n",
      "cost after  4400  iterations is : 0.3009606337983213\n",
      "cost after  4600  iterations is : 0.30066509329925617\n",
      "cost after  4800  iterations is : 0.30038000858474617\n",
      "cost after  5000  iterations is : 0.30010501995274486\n"
     ]
    }
   ],
   "source": [
    "parms,cost=model(x_train,y_train,0.001,5000,True)"
   ]
  },
  {
   "cell_type": "code",
   "execution_count": 50,
   "metadata": {},
   "outputs": [],
   "source": [
    "pred=predict(x_test,parms)"
   ]
  },
  {
   "cell_type": "code",
   "execution_count": 52,
   "metadata": {},
   "outputs": [
    {
     "data": {
      "text/plain": [
       "0.8947368421052632"
      ]
     },
     "execution_count": 52,
     "metadata": {},
     "output_type": "execute_result"
    }
   ],
   "source": [
    "accuracy_score(y_test,pred)"
   ]
  },
  {
   "cell_type": "code",
   "execution_count": 53,
   "metadata": {},
   "outputs": [
    {
     "data": {
      "text/plain": [
       "0.8967032967032967"
      ]
     },
     "execution_count": 53,
     "metadata": {},
     "output_type": "execute_result"
    }
   ],
   "source": [
    "accuracy_score(y_train,predict(x_train,parms))"
   ]
  },
  {
   "cell_type": "code",
   "execution_count": null,
   "metadata": {},
   "outputs": [],
   "source": []
  }
 ],
 "metadata": {
  "kernelspec": {
   "display_name": "Python 3",
   "language": "python",
   "name": "python3"
  },
  "language_info": {
   "codemirror_mode": {
    "name": "ipython",
    "version": 3
   },
   "file_extension": ".py",
   "mimetype": "text/x-python",
   "name": "python",
   "nbconvert_exporter": "python",
   "pygments_lexer": "ipython3",
   "version": "3.6.4"
  }
 },
 "nbformat": 4,
 "nbformat_minor": 2
}
